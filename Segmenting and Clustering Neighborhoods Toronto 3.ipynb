{
    "cells": [
        {
            "metadata": {},
            "cell_type": "code",
            "source": "#Import libraries\nfrom urllib.request import urlopen\nfrom bs4 import BeautifulSoup\nimport datetime\nimport re\nimport numpy as np\nimport pandas as pd\nimport csv\n\n#!conda install -c conda-forge folium=0.5.0 --yes \nimport folium # map rendering library\n\n# import k-means from clustering stage\nfrom sklearn.cluster import KMeans\n\nimport requests # library to handle requests\nfrom pandas.io.json import json_normalize # tranform JSON file into a pandas dataframe\n\n# Matplotlib and associated plotting modules\nimport matplotlib.cm as cm\nimport matplotlib.colors as colors",
            "execution_count": 6,
            "outputs": []
        },
        {
            "metadata": {},
            "cell_type": "code",
            "source": "def remove_tags(data_arr_list):\n    tags = [\"<td>\", \"</td>\", \"\\n\", \"td>\" , \"</td\", \"]]\"]\n    for i in range(0, len(data_arr_list)):\n        for j in range(0, len(tags)):\n            if str(tags[j]) in str(data_arr_list[i]):\n                data_arr_list[i] = data_arr_list[i].replace(tags[j], \"\")\n                if 'title=\"' in str(data_arr_list[i]):\n                    data_arr_list[i] = str(data_arr_list[i]).split('title=\"')[1].split('\">')[0]\n    \n    return (data_arr_list)",
            "execution_count": 8,
            "outputs": []
        },
        {
            "metadata": {},
            "cell_type": "code",
            "source": "# Funtion: Compile_Postal\n\ndef compile_postal(data_arr_list):\n\n    #Compare the postal code to the next one in order\n    for i in range (0, len(data_arr_list)-3, 3):\n\n        if str(data_arr_list[i]) == str(data_arr_list[i+3]):\n            #Add to the current postal code\n            if str(data_arr_list[i+4]) not in data_arr_list[i+1]:\n                data_arr_list[i+1] = str(data_arr_list[i+1]) + \", \" + str(data_arr_list[i+4])\n            if str(data_arr_list[i+5]) not in data_arr_list[i+2]:\n                data_arr_list[i+2] = str(data_arr_list[i+2]) + \", \" + str(data_arr_list[i+5])\n            \n            #Remove old entry(s)\n            del(data_arr_list[i+3])\n            del(data_arr_list[i+3])\n            del(data_arr_list[i+3])\n            \n            data_arr_list = compile_postal(data_arr_list)\n            \n            break\n            \n    return data_arr_list",
            "execution_count": 9,
            "outputs": []
        },
        {
            "metadata": {},
            "cell_type": "code",
            "source": "# Description: Drop borough rows that are N/A \n\ndef drop_na_borough(data_arr_list):\n\n    for i in range (1, len(data_arr_list)-1, 3):\n        if str(data_arr_list[i]) == 'Not assigned':\n            \n            #Remove the row\n            del(data_arr_list[i-1])\n            del(data_arr_list[i-1])\n            del(data_arr_list[i-1])\n            \n            data_arr_list = drop_na_borough(data_arr_list)\n            break\n            \n    return data_arr_list",
            "execution_count": 10,
            "outputs": []
        },
        {
            "metadata": {},
            "cell_type": "code",
            "source": "# Description: Assign borough value to neighborhood if neighborhood is N/A \n \ndef neighborhood_borough(data_arr_list):\n    \n    for i in range (2, len(data_arr_list), 3):\n        if str(data_arr_list[i]) == 'Not assigned':\n            \n            data_arr_list[i] = str(data_arr_list[i-1])\n            data_arr_list = neighborhood_borough(data_arr_list)\n            \n            break\n            \n    return data_arr_list",
            "execution_count": 11,
            "outputs": []
        },
        {
            "metadata": {},
            "cell_type": "code",
            "source": "# specify the url\nquote_page = \"https://en.wikipedia.org/wiki/List_of_postal_codes_of_Canada:_M\"\n\n# query the website and return the html to the variable \u2018page\u2019\npage = urlopen(quote_page)\n\n# parse the html using beautiful soup and store in variable `soup`\nsoup = BeautifulSoup(page, \"html.parser\")\n\n#Define array to hold all of the data points\ndata_arr = []\n\n#Get the first table in the html\ndata = soup.findAll('table')\n\n#assign the cells to the array\nfor row in data:\n    for item in row.findAll('td'):\n        if \"<td>\" in str(item):\n            data_arr.append(str(item))\n\n#Remove the last element in the list as it is invalid\ndata_arr.pop()            \n\n#Clean up the tags and data points\n\n#Remove HTML tags\ndata_arr = remove_tags(data_arr)\n\n#Compile postal codes\ndata_arr = compile_postal(data_arr)\n\n#Drop Not assigned boroughs\ndata_arr = drop_na_borough(data_arr)\n\n#Assign borough to n/a neighborhoods\ndata_arr = neighborhood_borough(data_arr)",
            "execution_count": 12,
            "outputs": []
        },
        {
            "metadata": {},
            "cell_type": "code",
            "source": "#Create a dictionary\ntoronto_dict = {'Postal_Code':data_arr[0::3], 'Borough': data_arr[0::3], \n                                     'Neighborhood':data_arr[0::3] }\n\n#Pandas Data frame\ntoronto_df = pd.DataFrame.from_dict(toronto_dict)\n\n#*********Uncomment these lines to focus only on those boroughs in Toronto - containing the word Toronto*********#\n#toronto_df = toronto_df[toronto_df['Borough'].str.contains(\"Toronto\")==True]\n#toronto_df.reset_index(drop=True, inplace=True)\n\n#Print the shape of the new frame and display the first 5 rows\nprint(toronto_df.shape)\n\ntoronto_df.head()",
            "execution_count": 20,
            "outputs": [
                {
                    "output_type": "stream",
                    "text": "(104, 3)\n",
                    "name": "stdout"
                },
                {
                    "output_type": "execute_result",
                    "execution_count": 20,
                    "data": {
                        "text/plain": "  Postal_Code Borough Neighborhood\n0         M3A     M3A          M3A\n1         M4A     M4A          M4A\n2         M5A     M5A          M5A\n3         M6A     M6A          M6A\n4         M7A     M7A          M7A",
                        "text/html": "<div>\n<style scoped>\n    .dataframe tbody tr th:only-of-type {\n        vertical-align: middle;\n    }\n\n    .dataframe tbody tr th {\n        vertical-align: top;\n    }\n\n    .dataframe thead th {\n        text-align: right;\n    }\n</style>\n<table border=\"1\" class=\"dataframe\">\n  <thead>\n    <tr style=\"text-align: right;\">\n      <th></th>\n      <th>Postal_Code</th>\n      <th>Borough</th>\n      <th>Neighborhood</th>\n    </tr>\n  </thead>\n  <tbody>\n    <tr>\n      <th>0</th>\n      <td>M3A</td>\n      <td>M3A</td>\n      <td>M3A</td>\n    </tr>\n    <tr>\n      <th>1</th>\n      <td>M4A</td>\n      <td>M4A</td>\n      <td>M4A</td>\n    </tr>\n    <tr>\n      <th>2</th>\n      <td>M5A</td>\n      <td>M5A</td>\n      <td>M5A</td>\n    </tr>\n    <tr>\n      <th>3</th>\n      <td>M6A</td>\n      <td>M6A</td>\n      <td>M6A</td>\n    </tr>\n    <tr>\n      <th>4</th>\n      <td>M7A</td>\n      <td>M7A</td>\n      <td>M7A</td>\n    </tr>\n  </tbody>\n</table>\n</div>"
                    },
                    "metadata": {}
                }
            ]
        },
        {
            "metadata": {},
            "cell_type": "code",
            "source": "toronto_df['Latitude'] = 'Not Set'\ntoronto_df['Longitude'] = 'Not Set'\n\n#Open file containing the geospacial coordinates for Toronto\nwith open('Geospatial_Coordinates.csv', 'r') as csvfile:\n    geo_reader = csv.reader(csvfile, delimiter=',', quotechar='|')\n    for row in geo_reader:\n        #Find the postal code in the fame and add coordinates\n        toronto_df.loc[toronto_df['Postal_Code'] == str(row[0]), \"Latitude\"] = str(row[1])\n        toronto_df.loc[toronto_df['Postal_Code'] == str(row[0]), \"Longitude\"] = str(row[2])\n        \n#Set type to numeric\ntoronto_df['Latitude'] = pd.to_numeric(toronto_df['Latitude'])\ntoronto_df['Longitude'] = pd.to_numeric(toronto_df['Longitude'])\n\n\ntoronto_df.head()",
            "execution_count": 22,
            "outputs": [
                {
                    "output_type": "error",
                    "ename": "FileNotFoundError",
                    "evalue": "[Errno 2] No such file or directory: 'Geospatial_Coordinates.csv'",
                    "traceback": [
                        "\u001b[0;31m---------------------------------------------------------------------------\u001b[0m",
                        "\u001b[0;31mFileNotFoundError\u001b[0m                         Traceback (most recent call last)",
                        "\u001b[0;32m<ipython-input-22-f56b098d6e8d>\u001b[0m in \u001b[0;36m<module>\u001b[0;34m\u001b[0m\n\u001b[1;32m      3\u001b[0m \u001b[0;34m\u001b[0m\u001b[0m\n\u001b[1;32m      4\u001b[0m \u001b[0;31m#Open file containing the geospacial coordinates for Toronto\u001b[0m\u001b[0;34m\u001b[0m\u001b[0;34m\u001b[0m\u001b[0;34m\u001b[0m\u001b[0m\n\u001b[0;32m----> 5\u001b[0;31m \u001b[0;32mwith\u001b[0m \u001b[0mopen\u001b[0m\u001b[0;34m(\u001b[0m\u001b[0;34m'Geospatial_Coordinates.csv'\u001b[0m\u001b[0;34m,\u001b[0m \u001b[0;34m'r'\u001b[0m\u001b[0;34m)\u001b[0m \u001b[0;32mas\u001b[0m \u001b[0mcsvfile\u001b[0m\u001b[0;34m:\u001b[0m\u001b[0;34m\u001b[0m\u001b[0;34m\u001b[0m\u001b[0m\n\u001b[0m\u001b[1;32m      6\u001b[0m     \u001b[0mgeo_reader\u001b[0m \u001b[0;34m=\u001b[0m \u001b[0mcsv\u001b[0m\u001b[0;34m.\u001b[0m\u001b[0mreader\u001b[0m\u001b[0;34m(\u001b[0m\u001b[0mcsvfile\u001b[0m\u001b[0;34m,\u001b[0m \u001b[0mdelimiter\u001b[0m\u001b[0;34m=\u001b[0m\u001b[0;34m','\u001b[0m\u001b[0;34m,\u001b[0m \u001b[0mquotechar\u001b[0m\u001b[0;34m=\u001b[0m\u001b[0;34m'|'\u001b[0m\u001b[0;34m)\u001b[0m\u001b[0;34m\u001b[0m\u001b[0;34m\u001b[0m\u001b[0m\n\u001b[1;32m      7\u001b[0m     \u001b[0;32mfor\u001b[0m \u001b[0mrow\u001b[0m \u001b[0;32min\u001b[0m \u001b[0mgeo_reader\u001b[0m\u001b[0;34m:\u001b[0m\u001b[0;34m\u001b[0m\u001b[0;34m\u001b[0m\u001b[0m\n",
                        "\u001b[0;31mFileNotFoundError\u001b[0m: [Errno 2] No such file or directory: 'Geospatial_Coordinates.csv'"
                    ]
                }
            ]
        },
        {
            "metadata": {},
            "cell_type": "code",
            "source": "CLIENT_ID = 'ZV4HIDZPRGJHKKBI454FEA534ILEJ224B2GSBNCSGAJXXLGT' \nCLIENT_SECRET = '0HJ22432R2XCYBFACPRGUFDS1IWRW3SLNBTFJ5IVQVFWGZFW' \nVERSION = '20200601' \nradius=500\nLIMIT=100",
            "execution_count": 23,
            "outputs": []
        },
        {
            "metadata": {},
            "cell_type": "code",
            "source": "## Cognitive Class.ai\n## Segmenting and Clustering Neighborhoods in New York City\n## Note: This function is taken from : https://labs.cognitiveclass.ai/tools/jupyterlab/lab/tree/labs/DP0701EN/DP0701EN-3-3-2-Neighborhoods-New-York-py-v1.0.ipynb\n## I do not take credit for writing the below function\n## I have used this function and made changes where nessesary for use in this project\n\n#This function will get the near-by venues of a location using coordinates\n\ndef getNearbyVenues(names, latitudes, longitudes, radius):\n    \n    venues_list=[]\n    remove = []\n    for name, lat, lng in zip(names, latitudes, longitudes):\n            \n        # create the API request URL\n        url = 'https://api.foursquare.com/v2/venues/explore?&client_id={}&client_secret={}&v={}&ll={},{}&radius={}&limit={}'.format(\n            CLIENT_ID, \n            CLIENT_SECRET, \n            VERSION, \n            lat, \n            lng, \n            radius, \n            LIMIT)\n            \n        # make the GET request\n        results = requests.get(url).json()[\"response\"]['groups'][0]['items']\n        \n        #Log postal codees without nearby addresses \n        if not results:\n            remove.append(name)\n\n        # return only relevant information for each nearby venue\n        venues_list.append([(\n            name, \n            lat, \n            lng, \n            v['venue']['name'], \n            v['venue']['location']['lat'], \n            v['venue']['location']['lng'],  \n            v['venue']['categories'][0]['name']) for v in results])\n\n    nearby_venues = pd.DataFrame([item for venue_list in venues_list for item in venue_list])\n    nearby_venues.columns = ['Postal_Code', \n                  'Postal_Latitude', \n                  'Postal_Longitude', \n                  'Venue', \n                  'Venue_Latitude', \n                  'Venue_Longitude', \n                  'Venue_Category']\n    \n    return(nearby_venues, remove)",
            "execution_count": 24,
            "outputs": []
        },
        {
            "metadata": {},
            "cell_type": "code",
            "source": "#Radius of 500m and a limit of 100 venues\nradius = 500\nLIMIT = 100\n\n\n#Get the venues near Toronto postal codes\ntoronto_venues,remove = getNearbyVenues(names=toronto_df['Postal_Code'],\n                                   latitudes=toronto_df['Latitude'],\n                                   longitudes=toronto_df['Longitude'],\n                                   radius = radius\n                                  )\n\n#Remove those postal codes with no nearby venues\nfor item in remove:\n    indexNames = toronto_df[ toronto_df['Postal_Code'] == item ].index\n    # Delete these row indexes from dataFrame\n    toronto_df.drop(indexNames , inplace=True)",
            "execution_count": 25,
            "outputs": [
                {
                    "output_type": "error",
                    "ename": "KeyError",
                    "evalue": "'groups'",
                    "traceback": [
                        "\u001b[0;31m---------------------------------------------------------------------------\u001b[0m",
                        "\u001b[0;31mKeyError\u001b[0m                                  Traceback (most recent call last)",
                        "\u001b[0;32m<ipython-input-25-7aae13b1a317>\u001b[0m in \u001b[0;36m<module>\u001b[0;34m\u001b[0m\n\u001b[1;32m      8\u001b[0m                                    \u001b[0mlatitudes\u001b[0m\u001b[0;34m=\u001b[0m\u001b[0mtoronto_df\u001b[0m\u001b[0;34m[\u001b[0m\u001b[0;34m'Latitude'\u001b[0m\u001b[0;34m]\u001b[0m\u001b[0;34m,\u001b[0m\u001b[0;34m\u001b[0m\u001b[0;34m\u001b[0m\u001b[0m\n\u001b[1;32m      9\u001b[0m                                    \u001b[0mlongitudes\u001b[0m\u001b[0;34m=\u001b[0m\u001b[0mtoronto_df\u001b[0m\u001b[0;34m[\u001b[0m\u001b[0;34m'Longitude'\u001b[0m\u001b[0;34m]\u001b[0m\u001b[0;34m,\u001b[0m\u001b[0;34m\u001b[0m\u001b[0;34m\u001b[0m\u001b[0m\n\u001b[0;32m---> 10\u001b[0;31m                                    \u001b[0mradius\u001b[0m \u001b[0;34m=\u001b[0m \u001b[0mradius\u001b[0m\u001b[0;34m\u001b[0m\u001b[0;34m\u001b[0m\u001b[0m\n\u001b[0m\u001b[1;32m     11\u001b[0m                                   )\n\u001b[1;32m     12\u001b[0m \u001b[0;34m\u001b[0m\u001b[0m\n",
                        "\u001b[0;32m<ipython-input-24-31706b19fc8c>\u001b[0m in \u001b[0;36mgetNearbyVenues\u001b[0;34m(names, latitudes, longitudes, radius)\u001b[0m\n\u001b[1;32m     24\u001b[0m \u001b[0;34m\u001b[0m\u001b[0m\n\u001b[1;32m     25\u001b[0m         \u001b[0;31m# make the GET request\u001b[0m\u001b[0;34m\u001b[0m\u001b[0;34m\u001b[0m\u001b[0;34m\u001b[0m\u001b[0m\n\u001b[0;32m---> 26\u001b[0;31m         \u001b[0mresults\u001b[0m \u001b[0;34m=\u001b[0m \u001b[0mrequests\u001b[0m\u001b[0;34m.\u001b[0m\u001b[0mget\u001b[0m\u001b[0;34m(\u001b[0m\u001b[0murl\u001b[0m\u001b[0;34m)\u001b[0m\u001b[0;34m.\u001b[0m\u001b[0mjson\u001b[0m\u001b[0;34m(\u001b[0m\u001b[0;34m)\u001b[0m\u001b[0;34m[\u001b[0m\u001b[0;34m\"response\"\u001b[0m\u001b[0;34m]\u001b[0m\u001b[0;34m[\u001b[0m\u001b[0;34m'groups'\u001b[0m\u001b[0;34m]\u001b[0m\u001b[0;34m[\u001b[0m\u001b[0;36m0\u001b[0m\u001b[0;34m]\u001b[0m\u001b[0;34m[\u001b[0m\u001b[0;34m'items'\u001b[0m\u001b[0;34m]\u001b[0m\u001b[0;34m\u001b[0m\u001b[0;34m\u001b[0m\u001b[0m\n\u001b[0m\u001b[1;32m     27\u001b[0m \u001b[0;34m\u001b[0m\u001b[0m\n\u001b[1;32m     28\u001b[0m         \u001b[0;31m#Log postal codees without nearby addresses\u001b[0m\u001b[0;34m\u001b[0m\u001b[0;34m\u001b[0m\u001b[0;34m\u001b[0m\u001b[0m\n",
                        "\u001b[0;31mKeyError\u001b[0m: 'groups'"
                    ]
                }
            ]
        },
        {
            "metadata": {},
            "cell_type": "code",
            "source": "",
            "execution_count": null,
            "outputs": []
        },
        {
            "metadata": {},
            "cell_type": "code",
            "source": "",
            "execution_count": null,
            "outputs": []
        }
    ],
    "metadata": {
        "kernelspec": {
            "name": "python3",
            "display_name": "Python 3.6",
            "language": "python"
        },
        "language_info": {
            "name": "python",
            "version": "3.6.9",
            "mimetype": "text/x-python",
            "codemirror_mode": {
                "name": "ipython",
                "version": 3
            },
            "pygments_lexer": "ipython3",
            "nbconvert_exporter": "python",
            "file_extension": ".py"
        }
    },
    "nbformat": 4,
    "nbformat_minor": 1
}